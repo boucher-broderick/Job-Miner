{
 "cells": [
  {
   "cell_type": "code",
   "execution_count": 158,
   "id": "b566fd24-4974-4769-a60a-a8fc1dc19409",
   "metadata": {},
   "outputs": [],
   "source": [
    "import pandas as pd"
   ]
  },
  {
   "cell_type": "code",
   "execution_count": 159,
   "id": "50505234-a981-4bea-9058-a2c3585c6645",
   "metadata": {},
   "outputs": [
    {
     "data": {
      "text/plain": [
       "(441, 30)"
      ]
     },
     "execution_count": 159,
     "metadata": {},
     "output_type": "execute_result"
    }
   ],
   "source": [
    "jobs = pd.read_json(\"./jobs.json\", lines=True)\n",
    "#jobs = pd.concat([jobs1, jobs2, jobs3, existing_data], ignore_index=True)\n",
    "jobs.shape"
   ]
  },
  {
   "cell_type": "code",
   "execution_count": 160,
   "id": "1b6e3825-3944-4430-aec7-702892b13b6f",
   "metadata": {},
   "outputs": [
    {
     "name": "stdout",
     "output_type": "stream",
     "text": [
      "['site', 'job_url', 'job_url_direct', 'title', 'company', 'location', 'job_type', 'date_posted', 'interval', 'min_amount', 'max_amount', 'currency', 'is_remote', 'emails', 'description', 'company_url', 'company_url_direct', 'company_addresses', 'company_industry', 'company_num_employees', 'company_revenue', 'company_description', 'logo_photo_url', 'banner_photo_url', 'ceo_name', 'ceo_photo_url', 'num_urgent_words', 'benefits', 'id', 'full_description']\n"
     ]
    }
   ],
   "source": [
    "print(jobs.columns.tolist())"
   ]
  },
  {
   "cell_type": "code",
   "execution_count": 162,
   "id": "ab6f6a21-c631-417c-832f-2755501a890b",
   "metadata": {},
   "outputs": [
    {
     "data": {
      "text/html": [
       "<div>\n",
       "<style scoped>\n",
       "    .dataframe tbody tr th:only-of-type {\n",
       "        vertical-align: middle;\n",
       "    }\n",
       "\n",
       "    .dataframe tbody tr th {\n",
       "        vertical-align: top;\n",
       "    }\n",
       "\n",
       "    .dataframe thead th {\n",
       "        text-align: right;\n",
       "    }\n",
       "</style>\n",
       "<table border=\"1\" class=\"dataframe\">\n",
       "  <thead>\n",
       "    <tr style=\"text-align: right;\">\n",
       "      <th></th>\n",
       "      <th>site</th>\n",
       "      <th>job_url</th>\n",
       "      <th>job_url_direct</th>\n",
       "      <th>title</th>\n",
       "      <th>company</th>\n",
       "      <th>location</th>\n",
       "      <th>job_type</th>\n",
       "      <th>date_posted</th>\n",
       "      <th>interval</th>\n",
       "      <th>min_amount</th>\n",
       "      <th>max_amount</th>\n",
       "      <th>currency</th>\n",
       "      <th>is_remote</th>\n",
       "      <th>emails</th>\n",
       "      <th>description</th>\n",
       "      <th>company_url</th>\n",
       "      <th>company_url_direct</th>\n",
       "      <th>company_addresses</th>\n",
       "      <th>company_industry</th>\n",
       "      <th>company_num_employees</th>\n",
       "      <th>company_revenue</th>\n",
       "      <th>company_description</th>\n",
       "      <th>logo_photo_url</th>\n",
       "      <th>banner_photo_url</th>\n",
       "      <th>ceo_name</th>\n",
       "      <th>ceo_photo_url</th>\n",
       "      <th>num_urgent_words</th>\n",
       "      <th>benefits</th>\n",
       "      <th>id</th>\n",
       "      <th>full_description</th>\n",
       "    </tr>\n",
       "  </thead>\n",
       "  <tbody>\n",
       "    <tr>\n",
       "      <th>0</th>\n",
       "      <td>glassdoor</td>\n",
       "      <td>https://www.glassdoor.com/job-listing/j?jl=100...</td>\n",
       "      <td>None</td>\n",
       "      <td>Senior .NET/C# Developer (Open to Remote)</td>\n",
       "      <td>Penguin Random House LLC</td>\n",
       "      <td>United States</td>\n",
       "      <td>None</td>\n",
       "      <td>1711756800000</td>\n",
       "      <td>yearly</td>\n",
       "      <td>130000.0</td>\n",
       "      <td>135000.0</td>\n",
       "      <td>USD</td>\n",
       "      <td>0.0</td>\n",
       "      <td>None</td>\n",
       "      <td>Penguin Random House is on the lookout for a s...</td>\n",
       "      <td>https://www.glassdoor.com/Overview/W-EI_IE7434...</td>\n",
       "      <td>None</td>\n",
       "      <td>None</td>\n",
       "      <td>None</td>\n",
       "      <td>None</td>\n",
       "      <td>None</td>\n",
       "      <td>None</td>\n",
       "      <td>None</td>\n",
       "      <td>None</td>\n",
       "      <td>None</td>\n",
       "      <td>None</td>\n",
       "      <td>NaN</td>\n",
       "      <td>NaN</td>\n",
       "      <td>0</td>\n",
       "      <td>Senior .NET/C# Developer (Open to Remote) Peng...</td>\n",
       "    </tr>\n",
       "    <tr>\n",
       "      <th>1</th>\n",
       "      <td>glassdoor</td>\n",
       "      <td>https://www.glassdoor.com/job-listing/j?jl=100...</td>\n",
       "      <td>None</td>\n",
       "      <td>REMOTE - Sr. Software Test Engineer</td>\n",
       "      <td>Harbor Compliance</td>\n",
       "      <td>None</td>\n",
       "      <td>None</td>\n",
       "      <td>1711756800000</td>\n",
       "      <td>None</td>\n",
       "      <td>NaN</td>\n",
       "      <td>NaN</td>\n",
       "      <td>None</td>\n",
       "      <td>1.0</td>\n",
       "      <td>None</td>\n",
       "      <td>The Software Test Engineer is a key member of ...</td>\n",
       "      <td>https://www.glassdoor.com/Overview/W-EI_IE1479...</td>\n",
       "      <td>None</td>\n",
       "      <td>None</td>\n",
       "      <td>None</td>\n",
       "      <td>None</td>\n",
       "      <td>None</td>\n",
       "      <td>None</td>\n",
       "      <td>None</td>\n",
       "      <td>None</td>\n",
       "      <td>None</td>\n",
       "      <td>None</td>\n",
       "      <td>NaN</td>\n",
       "      <td>NaN</td>\n",
       "      <td>1</td>\n",
       "      <td>REMOTE - Sr. Software Test Engineer The Softwa...</td>\n",
       "    </tr>\n",
       "  </tbody>\n",
       "</table>\n",
       "</div>"
      ],
      "text/plain": [
       "        site                                            job_url job_url_direct                                      title                   company       location job_type    date_posted interval  min_amount  max_amount currency  is_remote emails                                        description                                        company_url company_url_direct company_addresses company_industry company_num_employees company_revenue company_description logo_photo_url banner_photo_url ceo_name ceo_photo_url  num_urgent_words  benefits  id                                   full_description\n",
       "0  glassdoor  https://www.glassdoor.com/job-listing/j?jl=100...           None  Senior .NET/C# Developer (Open to Remote)  Penguin Random House LLC  United States     None  1711756800000   yearly    130000.0    135000.0      USD        0.0   None  Penguin Random House is on the lookout for a s...  https://www.glassdoor.com/Overview/W-EI_IE7434...               None              None             None                  None            None                None           None             None     None          None               NaN       NaN   0  Senior .NET/C# Developer (Open to Remote) Peng...\n",
       "1  glassdoor  https://www.glassdoor.com/job-listing/j?jl=100...           None        REMOTE - Sr. Software Test Engineer         Harbor Compliance           None     None  1711756800000     None         NaN         NaN     None        1.0   None  The Software Test Engineer is a key member of ...  https://www.glassdoor.com/Overview/W-EI_IE1479...               None              None             None                  None            None                None           None             None     None          None               NaN       NaN   1  REMOTE - Sr. Software Test Engineer The Softwa..."
      ]
     },
     "execution_count": 162,
     "metadata": {},
     "output_type": "execute_result"
    }
   ],
   "source": [
    "pd.set_option('display.max_columns', None)  # Ensure all columns are shown\n",
    "pd.set_option('display.expand_frame_repr', False) \n",
    "jobs.head(2)"
   ]
  },
  {
   "cell_type": "code",
   "execution_count": 163,
   "id": "08cc29d7-eb7a-40d9-bc83-804b3cd34ec2",
   "metadata": {},
   "outputs": [
    {
     "data": {
      "text/html": [
       "<div>\n",
       "<style scoped>\n",
       "    .dataframe tbody tr th:only-of-type {\n",
       "        vertical-align: middle;\n",
       "    }\n",
       "\n",
       "    .dataframe tbody tr th {\n",
       "        vertical-align: top;\n",
       "    }\n",
       "\n",
       "    .dataframe thead th {\n",
       "        text-align: right;\n",
       "    }\n",
       "</style>\n",
       "<table border=\"1\" class=\"dataframe\">\n",
       "  <thead>\n",
       "    <tr style=\"text-align: right;\">\n",
       "      <th></th>\n",
       "      <th>id</th>\n",
       "      <th>title</th>\n",
       "      <th>interval</th>\n",
       "      <th>min_amount</th>\n",
       "      <th>max_amount</th>\n",
       "      <th>currency</th>\n",
       "      <th>full_description</th>\n",
       "    </tr>\n",
       "  </thead>\n",
       "  <tbody>\n",
       "    <tr>\n",
       "      <th>0</th>\n",
       "      <td>0</td>\n",
       "      <td>Senior .NET/C# Developer (Open to Remote)</td>\n",
       "      <td>yearly</td>\n",
       "      <td>130000.0</td>\n",
       "      <td>135000.0</td>\n",
       "      <td>USD</td>\n",
       "      <td>Senior .NET/C# Developer (Open to Remote) Peng...</td>\n",
       "    </tr>\n",
       "    <tr>\n",
       "      <th>1</th>\n",
       "      <td>1</td>\n",
       "      <td>REMOTE - Sr. Software Test Engineer</td>\n",
       "      <td>None</td>\n",
       "      <td>NaN</td>\n",
       "      <td>NaN</td>\n",
       "      <td>None</td>\n",
       "      <td>REMOTE - Sr. Software Test Engineer The Softwa...</td>\n",
       "    </tr>\n",
       "  </tbody>\n",
       "</table>\n",
       "</div>"
      ],
      "text/plain": [
       "   id                                      title interval  min_amount  max_amount currency                                   full_description\n",
       "0   0  Senior .NET/C# Developer (Open to Remote)   yearly    130000.0    135000.0      USD  Senior .NET/C# Developer (Open to Remote) Peng...\n",
       "1   1        REMOTE - Sr. Software Test Engineer     None         NaN         NaN     None  REMOTE - Sr. Software Test Engineer The Softwa..."
      ]
     },
     "execution_count": 163,
     "metadata": {},
     "output_type": "execute_result"
    }
   ],
   "source": [
    "df = jobs[['id', 'title', 'interval', 'min_amount', 'max_amount', 'currency', 'full_description']]\n",
    "df.head(2)"
   ]
  },
  {
   "cell_type": "code",
   "execution_count": 164,
   "id": "69c8937e-c772-4808-9117-c0f9fac145f0",
   "metadata": {},
   "outputs": [
    {
     "data": {
      "image/png": "[encoded data removed]",
      "text/plain": [
       "<Figure size 1000x800 with 1 Axes>"
      ]
     },
     "metadata": {},
     "output_type": "display_data"
    }
   ],
   "source": [
    "import matplotlib.pyplot as plt\n",
    "null_counts = df.isnull().sum()\n",
    "# Plotting\n",
    "plt.figure(figsize=(10, 8))  # Adjust the size as needed\n",
    "null_counts.plot(kind='bar')\n",
    "plt.title('Number of Null Values Per Column')\n",
    "plt.xlabel('Columns')\n",
    "plt.ylabel('Null Values Count')\n",
    "plt.xticks(rotation=45, ha=\"right\")  # Rotate column names for better readability\n",
    "plt.tight_layout()  # Adjust layout to make room for the rotated column names\n",
    "plt.show()"
   ]
  },
  {
   "cell_type": "code",
   "execution_count": 165,
   "id": "24ca64b1-543c-4e44-b617-427e2d3d1b0f",
   "metadata": {},
   "outputs": [
    {
     "data": {
      "text/plain": [
       "array(['yearly', None, 'hourly', 'monthly'], dtype=object)"
      ]
     },
     "execution_count": 165,
     "metadata": {},
     "output_type": "execute_result"
    }
   ],
   "source": [
    "df['interval'].unique()"
   ]
  },
  {
   "cell_type": "code",
   "execution_count": 169,
   "id": "706ad47f-eb89-4f06-8c3f-70fa55d7669a",
   "metadata": {},
   "outputs": [
    {
     "name": "stdout",
     "output_type": "stream",
     "text": [
      "0      False\n",
      "1      False\n",
      "2      False\n",
      "3      False\n",
      "4      False\n",
      "       ...  \n",
      "436    False\n",
      "437    False\n",
      "438    False\n",
      "439    False\n",
      "440    False\n",
      "Length: 441, dtype: bool\n",
      "0      False\n",
      "1      False\n",
      "2      False\n",
      "3      False\n",
      "4      False\n",
      "       ...  \n",
      "436    False\n",
      "437    False\n",
      "438    False\n",
      "439    False\n",
      "440    False\n",
      "Length: 441, dtype: bool\n"
     ]
    },
    {
     "name": "stderr",
     "output_type": "stream",
     "text": [
      "C:\\Users\\bouch\\AppData\\Local\\Temp\\ipykernel_16520\\3403804119.py:16: UserWarning: Boolean Series key will be reindexed to match DataFrame index.\n",
      "  df = df[~condition]\n"
     ]
    }
   ],
   "source": [
    "interval_not_null = df['interval'].notnull()\n",
    "min_null = df['min_amount'].isnull()\n",
    "max_null = df['max_amount'].isnull()\n",
    "\n",
    "condition = interval_not_null & (min_null & max_null)\n",
    "print(condition)\n",
    "df = df[~condition]\n",
    "\n",
    "interval_null = df['interval'].isnull()\n",
    "\n",
    "min_not_null = df['min_amount'].notnull()\n",
    "max_not_null = df['max_amount'].notnull()\n",
    "\n",
    "condition = interval_not_null & (min_null | max_null)\n",
    "print(condition)\n",
    "df = df[~condition]"
   ]
  },
  {
   "cell_type": "code",
   "execution_count": 171,
   "id": "157f27e3-5ecf-4d9d-b086-35b4bdab6b51",
   "metadata": {},
   "outputs": [
    {
     "data": {
      "image/png": "[encoded data removed]",
      "text/plain": [
       "<Figure size 1000x800 with 1 Axes>"
      ]
     },
     "metadata": {},
     "output_type": "display_data"
    }
   ],
   "source": [
    "import matplotlib.pyplot as plt\n",
    "null_counts = df.isnull().sum()\n",
    "# Plotting\n",
    "plt.figure(figsize=(10, 8))  # Adjust the size as needed\n",
    "null_counts.plot(kind='bar')\n",
    "plt.title('Number of Null Values Per Column')\n",
    "\n",
    "plt.xlabel('Columns')\n",
    "plt.ylabel('Null Values Count')\n",
    "plt.xticks(rotation=45, ha=\"right\")  # Rotate column names for better readability\n",
    "plt.tight_layout()  # Adjust layout to make room for the rotated column names\n",
    "plt.show()"
   ]
  },
  {
   "cell_type": "code",
   "execution_count": 172,
   "id": "d97e3797-6d83-4672-bb08-4260916b224b",
   "metadata": {},
   "outputs": [
    {
     "data": {
      "text/plain": [
       "array(['USD', None], dtype=object)"
      ]
     },
     "execution_count": 172,
     "metadata": {},
     "output_type": "execute_result"
    }
   ],
   "source": [
    "df['currency'].unique()"
   ]
  },
  {
   "cell_type": "code",
   "execution_count": 173,
   "id": "c68a361f-27c3-433c-ac4d-727ee9d63997",
   "metadata": {},
   "outputs": [],
   "source": [
    "df.drop(columns=['currency'], inplace=True)"
   ]
  },
  {
   "cell_type": "code",
   "execution_count": 174,
   "id": "09608d6b-0ac3-4d6b-8ad0-f505a6dcf6bb",
   "metadata": {},
   "outputs": [
    {
     "data": {
      "text/html": [
       "<div>\n",
       "<style scoped>\n",
       "    .dataframe tbody tr th:only-of-type {\n",
       "        vertical-align: middle;\n",
       "    }\n",
       "\n",
       "    .dataframe tbody tr th {\n",
       "        vertical-align: top;\n",
       "    }\n",
       "\n",
       "    .dataframe thead th {\n",
       "        text-align: right;\n",
       "    }\n",
       "</style>\n",
       "<table border=\"1\" class=\"dataframe\">\n",
       "  <thead>\n",
       "    <tr style=\"text-align: right;\">\n",
       "      <th></th>\n",
       "      <th>id</th>\n",
       "      <th>title</th>\n",
       "      <th>min_amount</th>\n",
       "      <th>max_amount</th>\n",
       "      <th>full_description</th>\n",
       "    </tr>\n",
       "  </thead>\n",
       "  <tbody>\n",
       "    <tr>\n",
       "      <th>0</th>\n",
       "      <td>0</td>\n",
       "      <td>Senior .NET/C# Developer (Open to Remote)</td>\n",
       "      <td>130000.0</td>\n",
       "      <td>135000.0</td>\n",
       "      <td>Senior .NET/C# Developer (Open to Remote) Peng...</td>\n",
       "    </tr>\n",
       "    <tr>\n",
       "      <th>1</th>\n",
       "      <td>1</td>\n",
       "      <td>REMOTE - Sr. Software Test Engineer</td>\n",
       "      <td>NaN</td>\n",
       "      <td>NaN</td>\n",
       "      <td>REMOTE - Sr. Software Test Engineer The Softwa...</td>\n",
       "    </tr>\n",
       "    <tr>\n",
       "      <th>2</th>\n",
       "      <td>2</td>\n",
       "      <td>Golang Developer</td>\n",
       "      <td>110727.0</td>\n",
       "      <td>135327.0</td>\n",
       "      <td>Golang Developer Overall, 6-10Go Lang experien...</td>\n",
       "    </tr>\n",
       "    <tr>\n",
       "      <th>3</th>\n",
       "      <td>3</td>\n",
       "      <td>Software Development Engineer In Test (SEDT)</td>\n",
       "      <td>NaN</td>\n",
       "      <td>NaN</td>\n",
       "      <td>Software Development Engineer In Test (SEDT) *...</td>\n",
       "    </tr>\n",
       "    <tr>\n",
       "      <th>4</th>\n",
       "      <td>4</td>\n",
       "      <td>Outlook Add-In (C#) Developer</td>\n",
       "      <td>50573.0</td>\n",
       "      <td>79932.0</td>\n",
       "      <td>Outlook Add-In (C#) Developer **Requisition Nu...</td>\n",
       "    </tr>\n",
       "  </tbody>\n",
       "</table>\n",
       "</div>"
      ],
      "text/plain": [
       "   id                                         title  min_amount  max_amount                                   full_description\n",
       "0   0     Senior .NET/C# Developer (Open to Remote)    130000.0    135000.0  Senior .NET/C# Developer (Open to Remote) Peng...\n",
       "1   1           REMOTE - Sr. Software Test Engineer         NaN         NaN  REMOTE - Sr. Software Test Engineer The Softwa...\n",
       "2   2                              Golang Developer    110727.0    135327.0  Golang Developer Overall, 6-10Go Lang experien...\n",
       "3   3  Software Development Engineer In Test (SEDT)         NaN         NaN  Software Development Engineer In Test (SEDT) *...\n",
       "4   4                 Outlook Add-In (C#) Developer     50573.0     79932.0  Outlook Add-In (C#) Developer **Requisition Nu..."
      ]
     },
     "execution_count": 174,
     "metadata": {},
     "output_type": "execute_result"
    }
   ],
   "source": [
    "hourly_to_annual_factor = 40 * 52\n",
    "df.loc[df['interval'] == 'hourly', 'min_amount'] *= hourly_to_annual_factor\n",
    "df.loc[df['interval'] == 'hourly', 'max_amount'] *= hourly_to_annual_factor\n",
    "\n",
    "monthly_to_annual_factor = 12\n",
    "df.loc[df['interval'] == 'monthly', 'min_amount'] *= monthly_to_annual_factor\n",
    "df.loc[df['interval'] == 'monthly', 'max_amount'] *= monthly_to_annual_factor\n",
    "\n",
    "df.drop(columns=['interval'], inplace=True)\n",
    "df.head(5)"
   ]
  },
  {
   "cell_type": "code",
   "execution_count": 209,
   "id": "05cff9a5-5ffe-492f-834a-6c73cde42e5e",
   "metadata": {},
   "outputs": [],
   "source": [
    "import torch\n",
    "from transformers import AutoModelForQuestionAnswering, AutoTokenizer, pipeline"
   ]
  },
  {
   "cell_type": "code",
   "execution_count": 228,
   "id": "db37994a-7cfa-42d4-81d0-9ed6986d5448",
   "metadata": {},
   "outputs": [],
   "source": [
    "QA_input = [{'question':'How many years of experience?',\n",
    "             'content': 'Website Developer. We want our canditites to have 2 years of java experience, 8 years of manager experience and four years of industry experience'}]"
   ]
  },
  {
   "cell_type": "code",
   "execution_count": 229,
   "id": "8f6a0556-7db3-4400-a970-484943b5dab9",
   "metadata": {},
   "outputs": [],
   "source": [
    "model_name = 'deepset/roberta-base-squad2'"
   ]
  },
  {
   "cell_type": "code",
   "execution_count": 230,
   "id": "eef84ff4-9f65-48f7-9d3b-820176314c5d",
   "metadata": {},
   "outputs": [],
   "source": [
    "model = AutoModelForQuestionAnswering.from_pretrained(model_name)\n",
    "tokenizer = AutoTokenizer.from_pretrained(model_name)"
   ]
  },
  {
   "cell_type": "code",
   "execution_count": 231,
   "id": "576cd068-c843-4f29-85ec-40b78e64f7bf",
   "metadata": {},
   "outputs": [],
   "source": [
    "input = tokenizer(QA_input[0]['question'], QA_input[0]['content'], return_tensors=\"pt\")\n",
    "output = model(**input)"
   ]
  },
  {
   "cell_type": "code",
   "execution_count": 232,
   "id": "e1d62783-dfee-477f-8053-3d058d2f5b7d",
   "metadata": {},
   "outputs": [
    {
     "name": "stdout",
     "output_type": "stream",
     "text": [
      "QuestionAnsweringModelOutput(loss=None, start_logits=tensor([[ 3.4031, -9.1553, -9.2086, -9.6430, -9.4488, -9.5525, -9.8723, -6.6974,\n",
      "         -9.4490, -7.0421, -8.1904, -6.6983, -7.9067, -6.4320, -8.1696, -6.7876,\n",
      "         -8.9630, -9.4231, -7.2640, -7.3776, -0.2977, -6.8200, -8.7708, -6.4571,\n",
      "         -6.8571, -9.2256, -1.7738, -7.5132, -9.0116, -6.9008, -7.8191, -8.8614,\n",
      "         -1.4660, -7.9600, -9.0914, -6.6945, -7.4375, -6.6961]],\n",
      "       grad_fn=<CloneBackward0>), end_logits=tensor([[ 3.8905, -8.5450, -8.3887, -7.9143, -8.2647, -7.9156, -7.9220, -3.2281,\n",
      "         -8.5003, -8.6882, -5.3726, -3.2290, -9.0052, -9.0180, -9.0032, -9.0305,\n",
      "         -8.5309, -7.0583, -8.8748, -8.8584, -0.2581, -1.4600, -5.3815, -3.6310,\n",
      "         -0.9992, -6.5145, -1.8114, -3.2222, -6.8414, -5.3060, -2.7739, -7.8457,\n",
      "         -1.2819, -4.1789, -6.8173, -5.3180, -1.7480, -3.2266]],\n",
      "       grad_fn=<CloneBackward0>), hidden_states=None, attentions=None)\n"
     ]
    }
   ],
   "source": [
    "print(output)"
   ]
  },
  {
   "cell_type": "code",
   "execution_count": 233,
   "id": "ce1212c6-bbe5-4b15-bfd6-d1a27ca6c724",
   "metadata": {},
   "outputs": [
    {
     "name": "stdout",
     "output_type": "stream",
     "text": [
      "tensor(0)\n",
      "tensor(0)\n",
      "<s>\n"
     ]
    }
   ],
   "source": [
    "start = torch.argmax(output.start_logits)\n",
    "end = torch.argmax(output.end_logits)\n",
    "print(start)\n",
    "print(end)\n",
    "\n",
    "token = input.input_ids[0, start:end+1]\n",
    "answer = tokenizer.decode(token)\n",
    "print(answer)"
   ]
  },
  {
   "cell_type": "code",
   "execution_count": 182,
   "id": "58cdfc8e-bbca-4dc1-9f39-61632354eadc",
   "metadata": {},
   "outputs": [],
   "source": [
    "df.to_json('./sample.json', orient='records', lines=True)"
   ]
  },
  {
   "cell_type": "code",
   "execution_count": 155,
   "id": "1b3481f1-961e-4fa3-a2f6-9f29f2fd51b3",
   "metadata": {},
   "outputs": [
    {
     "name": "stdout",
     "output_type": "stream",
     "text": [
      "Collecting spacy\n",
      "  Downloading spacy-3.7.4-cp311-cp311-win_amd64.whl.metadata (27 kB)\n",
      "Collecting spacy-legacy<3.1.0,>=3.0.11 (from spacy)\n",
      "  Downloading spacy_legacy-3.0.12-py2.py3-none-any.whl.metadata (2.8 kB)\n",
      "Collecting spacy-loggers<2.0.0,>=1.0.0 (from spacy)\n",
      "  Downloading spacy_loggers-1.0.5-py3-none-any.whl.metadata (23 kB)\n",
      "Collecting murmurhash<1.1.0,>=0.28.0 (from spacy)\n",
      "  Downloading murmurhash-1.0.10-cp311-cp311-win_amd64.whl.metadata (2.0 kB)\n",
      "Collecting cymem<2.1.0,>=2.0.2 (from spacy)\n",
      "  Downloading cymem-2.0.8-cp311-cp311-win_amd64.whl.metadata (8.6 kB)\n",
      "Collecting preshed<3.1.0,>=3.0.2 (from spacy)\n",
      "  Downloading preshed-3.0.9-cp311-cp311-win_amd64.whl.metadata (2.2 kB)\n",
      "Collecting thinc<8.3.0,>=8.2.2 (from spacy)\n",
      "  Downloading thinc-8.2.3-cp311-cp311-win_amd64.whl.metadata (15 kB)\n",
      "Collecting wasabi<1.2.0,>=0.9.1 (from spacy)\n",
      "  Downloading wasabi-1.1.2-py3-none-any.whl.metadata (28 kB)\n",
      "Collecting srsly<3.0.0,>=2.4.3 (from spacy)\n",
      "  Downloading srsly-2.4.8-cp311-cp311-win_amd64.whl.metadata (20 kB)\n",
      "Collecting catalogue<2.1.0,>=2.0.6 (from spacy)\n",
      "  Downloading catalogue-2.0.10-py3-none-any.whl.metadata (14 kB)\n",
      "Collecting weasel<0.4.0,>=0.1.0 (from spacy)\n",
      "  Downloading weasel-0.3.4-py3-none-any.whl.metadata (4.7 kB)\n",
      "Collecting typer<0.10.0,>=0.3.0 (from spacy)\n",
      "  Downloading typer-0.9.4-py3-none-any.whl.metadata (14 kB)\n",
      "Collecting smart-open<7.0.0,>=5.2.1 (from spacy)\n",
      "  Downloading smart_open-6.4.0-py3-none-any.whl.metadata (21 kB)\n",
      "Requirement already satisfied: tqdm<5.0.0,>=4.38.0 in c:\\users\\bouch\\appdata\\local\\programs\\python\\python311\\lib\\site-packages (from spacy) (4.66.2)\n",
      "Requirement already satisfied: requests<3.0.0,>=2.13.0 in c:\\users\\bouch\\appdata\\local\\programs\\python\\python311\\lib\\site-packages (from spacy) (2.31.0)\n",
      "Requirement already satisfied: pydantic!=1.8,!=1.8.1,<3.0.0,>=1.7.4 in c:\\users\\bouch\\appdata\\local\\programs\\python\\python311\\lib\\site-packages (from spacy) (1.10.15)\n",
      "Requirement already satisfied: jinja2 in c:\\users\\bouch\\appdata\\local\\programs\\python\\python311\\lib\\site-packages (from spacy) (3.1.3)\n",
      "Requirement already satisfied: setuptools in c:\\users\\bouch\\appdata\\local\\programs\\python\\python311\\lib\\site-packages (from spacy) (65.5.0)\n",
      "Requirement already satisfied: packaging>=20.0 in c:\\users\\bouch\\appdata\\local\\programs\\python\\python311\\lib\\site-packages (from spacy) (23.2)\n",
      "Collecting langcodes<4.0.0,>=3.2.0 (from spacy)\n",
      "  Downloading langcodes-3.3.0-py3-none-any.whl.metadata (29 kB)\n",
      "Requirement already satisfied: numpy>=1.19.0 in c:\\users\\bouch\\appdata\\local\\programs\\python\\python311\\lib\\site-packages (from spacy) (1.24.2)\n",
      "Requirement already satisfied: typing-extensions>=4.2.0 in c:\\users\\bouch\\appdata\\local\\programs\\python\\python311\\lib\\site-packages (from pydantic!=1.8,!=1.8.1,<3.0.0,>=1.7.4->spacy) (4.10.0)\n",
      "Requirement already satisfied: charset-normalizer<4,>=2 in c:\\users\\bouch\\appdata\\local\\programs\\python\\python311\\lib\\site-packages (from requests<3.0.0,>=2.13.0->spacy) (3.3.2)\n",
      "Requirement already satisfied: idna<4,>=2.5 in c:\\users\\bouch\\appdata\\local\\programs\\python\\python311\\lib\\site-packages (from requests<3.0.0,>=2.13.0->spacy) (3.6)\n",
      "Requirement already satisfied: urllib3<3,>=1.21.1 in c:\\users\\bouch\\appdata\\local\\programs\\python\\python311\\lib\\site-packages (from requests<3.0.0,>=2.13.0->spacy) (2.2.1)\n",
      "Requirement already satisfied: certifi>=2017.4.17 in c:\\users\\bouch\\appdata\\local\\programs\\python\\python311\\lib\\site-packages (from requests<3.0.0,>=2.13.0->spacy) (2024.2.2)\n",
      "Collecting blis<0.8.0,>=0.7.8 (from thinc<8.3.0,>=8.2.2->spacy)\n",
      "  Downloading blis-0.7.11-cp311-cp311-win_amd64.whl.metadata (7.6 kB)\n",
      "Collecting confection<1.0.0,>=0.0.1 (from thinc<8.3.0,>=8.2.2->spacy)\n",
      "  Downloading confection-0.1.4-py3-none-any.whl.metadata (19 kB)\n",
      "Requirement already satisfied: colorama in c:\\users\\bouch\\appdata\\local\\programs\\python\\python311\\lib\\site-packages (from tqdm<5.0.0,>=4.38.0->spacy) (0.4.6)\n",
      "Collecting click<9.0.0,>=7.1.1 (from typer<0.10.0,>=0.3.0->spacy)\n",
      "  Using cached click-8.1.7-py3-none-any.whl.metadata (3.0 kB)\n",
      "Collecting cloudpathlib<0.17.0,>=0.7.0 (from weasel<0.4.0,>=0.1.0->spacy)\n",
      "  Downloading cloudpathlib-0.16.0-py3-none-any.whl.metadata (14 kB)\n",
      "Requirement already satisfied: MarkupSafe>=2.0 in c:\\users\\bouch\\appdata\\local\\programs\\python\\python311\\lib\\site-packages (from jinja2->spacy) (2.1.5)\n",
      "Downloading spacy-3.7.4-cp311-cp311-win_amd64.whl (12.1 MB)\n",
      "   ---------------------------------------- 0.0/12.1 MB ? eta -:--:--\n",
      "   ---------------------------------------- 0.1/12.1 MB 1.3 MB/s eta 0:00:10\n",
      "    --------------------------------------- 0.2/12.1 MB 2.3 MB/s eta 0:00:06\n",
      "   - -------------------------------------- 0.5/12.1 MB 3.4 MB/s eta 0:00:04\n",
      "   --- ------------------------------------ 1.0/12.1 MB 5.3 MB/s eta 0:00:03\n",
      "   ----- ---------------------------------- 1.8/12.1 MB 7.6 MB/s eta 0:00:02\n",
      "   ------ --------------------------------- 1.9/12.1 MB 8.1 MB/s eta 0:00:02\n",
      "   --------- ------------------------------ 2.9/12.1 MB 10.4 MB/s eta 0:00:01\n",
      "   ---------- ----------------------------- 3.2/12.1 MB 9.1 MB/s eta 0:00:01\n",
      "   -------------- ------------------------- 4.4/12.1 MB 10.3 MB/s eta 0:00:01\n",
      "   --------------- ------------------------ 4.6/12.1 MB 9.7 MB/s eta 0:00:01\n",
      "   ----------------- ---------------------- 5.3/12.1 MB 10.3 MB/s eta 0:00:01\n",
      "   ------------------- -------------------- 6.0/12.1 MB 10.7 MB/s eta 0:00:01\n",
      "   ---------------------- ----------------- 6.8/12.1 MB 11.1 MB/s eta 0:00:01\n",
      "   ------------------------ --------------- 7.5/12.1 MB 11.3 MB/s eta 0:00:01\n",
      "   -------------------------- ------------- 7.9/12.1 MB 11.4 MB/s eta 0:00:01\n",
      "   -------------------------- ------------- 7.9/12.1 MB 11.4 MB/s eta 0:00:01\n",
      "   -------------------------- ------------- 8.1/12.1 MB 10.3 MB/s eta 0:00:01\n",
      "   --------------------------- ------------ 8.3/12.1 MB 10.0 MB/s eta 0:00:01\n",
      "   --------------------------- ------------ 8.4/12.1 MB 9.6 MB/s eta 0:00:01\n",
      "   ---------------------------- ----------- 8.6/12.1 MB 9.3 MB/s eta 0:00:01\n",
      "   ---------------------------- ----------- 8.7/12.1 MB 9.0 MB/s eta 0:00:01\n",
      "   ------------------------------ --------- 9.2/12.1 MB 9.0 MB/s eta 0:00:01\n",
      "   -------------------------------- ------- 9.7/12.1 MB 9.1 MB/s eta 0:00:01\n",
      "   --------------------------------- ------ 10.1/12.1 MB 9.1 MB/s eta 0:00:01\n",
      "   ----------------------------------- ---- 10.7/12.1 MB 9.9 MB/s eta 0:00:01\n",
      "   ------------------------------------ --- 11.1/12.1 MB 9.9 MB/s eta 0:00:01\n",
      "   -------------------------------------- - 11.6/12.1 MB 9.9 MB/s eta 0:00:01\n",
      "   ---------------------------------------  12.1/12.1 MB 9.6 MB/s eta 0:00:01\n",
      "   ---------------------------------------- 12.1/12.1 MB 9.5 MB/s eta 0:00:00\n",
      "Downloading catalogue-2.0.10-py3-none-any.whl (17 kB)\n",
      "Downloading cymem-2.0.8-cp311-cp311-win_amd64.whl (39 kB)\n",
      "Downloading langcodes-3.3.0-py3-none-any.whl (181 kB)\n",
      "   ---------------------------------------- 0.0/181.6 kB ? eta -:--:--\n",
      "   --------------------------------------- 181.6/181.6 kB 11.4 MB/s eta 0:00:00\n",
      "Downloading murmurhash-1.0.10-cp311-cp311-win_amd64.whl (25 kB)\n",
      "Downloading preshed-3.0.9-cp311-cp311-win_amd64.whl (122 kB)\n",
      "   ---------------------------------------- 0.0/122.3 kB ? eta -:--:--\n",
      "   ---------------------------------------- 122.3/122.3 kB ? eta 0:00:00\n",
      "Downloading smart_open-6.4.0-py3-none-any.whl (57 kB)\n",
      "   ---------------------------------------- 0.0/57.0 kB ? eta -:--:--\n",
      "   ---------------------------------------- 57.0/57.0 kB 3.1 MB/s eta 0:00:00\n",
      "Downloading spacy_legacy-3.0.12-py2.py3-none-any.whl (29 kB)\n",
      "Downloading spacy_loggers-1.0.5-py3-none-any.whl (22 kB)\n",
      "Downloading srsly-2.4.8-cp311-cp311-win_amd64.whl (479 kB)\n",
      "   ---------------------------------------- 0.0/479.7 kB ? eta -:--:--\n",
      "   --------------------------------------- 479.7/479.7 kB 15.1 MB/s eta 0:00:00\n",
      "Downloading thinc-8.2.3-cp311-cp311-win_amd64.whl (1.5 MB)\n",
      "   ---------------------------------------- 0.0/1.5 MB ? eta -:--:--\n",
      "   -------------- ------------------------- 0.5/1.5 MB 11.1 MB/s eta 0:00:01\n",
      "   ---------------------------- ----------- 1.0/1.5 MB 11.0 MB/s eta 0:00:01\n",
      "   ---------------------------------------- 1.5/1.5 MB 10.5 MB/s eta 0:00:00\n",
      "Downloading typer-0.9.4-py3-none-any.whl (45 kB)\n",
      "   ---------------------------------------- 0.0/46.0 kB ? eta -:--:--\n",
      "   ---------------------------------------- 46.0/46.0 kB 2.2 MB/s eta 0:00:00\n",
      "Downloading wasabi-1.1.2-py3-none-any.whl (27 kB)\n",
      "Downloading weasel-0.3.4-py3-none-any.whl (50 kB)\n",
      "   ---------------------------------------- 0.0/50.1 kB ? eta -:--:--\n",
      "   ---------------------------------------- 50.1/50.1 kB ? eta 0:00:00\n",
      "Downloading blis-0.7.11-cp311-cp311-win_amd64.whl (6.6 MB)\n",
      "   ---------------------------------------- 0.0/6.6 MB ? eta -:--:--\n",
      "   --- ------------------------------------ 0.5/6.6 MB 15.9 MB/s eta 0:00:01\n",
      "   ----- ---------------------------------- 0.9/6.6 MB 14.1 MB/s eta 0:00:01\n",
      "   -------- ------------------------------- 1.4/6.6 MB 11.1 MB/s eta 0:00:01\n",
      "   ----------- ---------------------------- 1.9/6.6 MB 12.3 MB/s eta 0:00:01\n",
      "   --------------- ------------------------ 2.5/6.6 MB 12.3 MB/s eta 0:00:01\n",
      "   ----------------- ---------------------- 3.0/6.6 MB 11.8 MB/s eta 0:00:01\n",
      "   --------------------- ------------------ 3.5/6.6 MB 11.9 MB/s eta 0:00:01\n",
      "   ------------------------ --------------- 4.1/6.6 MB 11.8 MB/s eta 0:00:01\n",
      "   --------------------------- ------------ 4.6/6.6 MB 11.7 MB/s eta 0:00:01\n",
      "   ------------------------------- -------- 5.1/6.6 MB 11.7 MB/s eta 0:00:01\n",
      "   ---------------------------------- ----- 5.7/6.6 MB 11.7 MB/s eta 0:00:01\n",
      "   ------------------------------------- -- 6.2/6.6 MB 11.6 MB/s eta 0:00:01\n",
      "   ---------------------------------------  6.6/6.6 MB 11.7 MB/s eta 0:00:01\n",
      "   ---------------------------------------- 6.6/6.6 MB 11.1 MB/s eta 0:00:00\n",
      "Using cached click-8.1.7-py3-none-any.whl (97 kB)\n",
      "Downloading cloudpathlib-0.16.0-py3-none-any.whl (45 kB)\n",
      "   ---------------------------------------- 0.0/45.0 kB ? eta -:--:--\n",
      "   ---------------------------------------- 45.0/45.0 kB ? eta 0:00:00\n",
      "Downloading confection-0.1.4-py3-none-any.whl (35 kB)\n",
      "Installing collected packages: cymem, wasabi, spacy-loggers, spacy-legacy, smart-open, murmurhash, langcodes, cloudpathlib, click, catalogue, blis, typer, srsly, preshed, confection, weasel, thinc, spacy\n",
      "Successfully installed blis-0.7.11 catalogue-2.0.10 click-8.1.7 cloudpathlib-0.16.0 confection-0.1.4 cymem-2.0.8 langcodes-3.3.0 murmurhash-1.0.10 preshed-3.0.9 smart-open-6.4.0 spacy-3.7.4 spacy-legacy-3.0.12 spacy-loggers-1.0.5 srsly-2.4.8 thinc-8.2.3 typer-0.9.4 wasabi-1.1.2 weasel-0.3.4\n",
      "Note: you may need to restart the kernel to use updated packages.\n"
     ]
    }
   ],
   "source": [
    "pip install spacy\n"
   ]
  },
  {
   "cell_type": "code",
   "execution_count": 156,
   "id": "b1f3350c-1ad6-4220-984f-777ef02575f6",
   "metadata": {},
   "outputs": [
    {
     "ename": "OSError",
     "evalue": "[E050] Can't find model 'en_core_web_sm'. It doesn't seem to be a Python package or a valid path to a data directory.",
     "output_type": "error",
     "traceback": [
      "\u001b[1;31m---------------------------------------------------------------------------\u001b[0m",
      "\u001b[1;31mOSError\u001b[0m                                   Traceback (most recent call last)",
      "Cell \u001b[1;32mIn[156], line 4\u001b[0m\n\u001b[0;32m      1\u001b[0m \u001b[38;5;28;01mimport\u001b[39;00m \u001b[38;5;21;01mspacy\u001b[39;00m\n\u001b[0;32m      3\u001b[0m \u001b[38;5;66;03m# Load the spaCy model\u001b[39;00m\n\u001b[1;32m----> 4\u001b[0m nlp \u001b[38;5;241m=\u001b[39m \u001b[43mspacy\u001b[49m\u001b[38;5;241;43m.\u001b[39;49m\u001b[43mload\u001b[49m\u001b[43m(\u001b[49m\u001b[38;5;124;43m\"\u001b[39;49m\u001b[38;5;124;43men_core_web_sm\u001b[39;49m\u001b[38;5;124;43m\"\u001b[39;49m\u001b[43m)\u001b[49m\n\u001b[0;32m      6\u001b[0m \u001b[38;5;66;03m# Example sentence\u001b[39;00m\n\u001b[0;32m      7\u001b[0m sentence \u001b[38;5;241m=\u001b[39m \u001b[38;5;124m\"\u001b[39m\u001b[38;5;124mCandidates must have 5 years of programming experience.\u001b[39m\u001b[38;5;124m\"\u001b[39m\n",
      "File \u001b[1;32m~\\AppData\\Local\\Programs\\Python\\Python311\\Lib\\site-packages\\spacy\\__init__.py:51\u001b[0m, in \u001b[0;36mload\u001b[1;34m(name, vocab, disable, enable, exclude, config)\u001b[0m\n\u001b[0;32m     27\u001b[0m \u001b[38;5;28;01mdef\u001b[39;00m \u001b[38;5;21mload\u001b[39m(\n\u001b[0;32m     28\u001b[0m     name: Union[\u001b[38;5;28mstr\u001b[39m, Path],\n\u001b[0;32m     29\u001b[0m     \u001b[38;5;241m*\u001b[39m,\n\u001b[1;32m   (...)\u001b[0m\n\u001b[0;32m     34\u001b[0m     config: Union[Dict[\u001b[38;5;28mstr\u001b[39m, Any], Config] \u001b[38;5;241m=\u001b[39m util\u001b[38;5;241m.\u001b[39mSimpleFrozenDict(),\n\u001b[0;32m     35\u001b[0m ) \u001b[38;5;241m-\u001b[39m\u001b[38;5;241m>\u001b[39m Language:\n\u001b[0;32m     36\u001b[0m \u001b[38;5;250m    \u001b[39m\u001b[38;5;124;03m\"\"\"Load a spaCy model from an installed package or a local path.\u001b[39;00m\n\u001b[0;32m     37\u001b[0m \n\u001b[0;32m     38\u001b[0m \u001b[38;5;124;03m    name (str): Package name or model path.\u001b[39;00m\n\u001b[1;32m   (...)\u001b[0m\n\u001b[0;32m     49\u001b[0m \u001b[38;5;124;03m    RETURNS (Language): The loaded nlp object.\u001b[39;00m\n\u001b[0;32m     50\u001b[0m \u001b[38;5;124;03m    \"\"\"\u001b[39;00m\n\u001b[1;32m---> 51\u001b[0m     \u001b[38;5;28;01mreturn\u001b[39;00m \u001b[43mutil\u001b[49m\u001b[38;5;241;43m.\u001b[39;49m\u001b[43mload_model\u001b[49m\u001b[43m(\u001b[49m\n\u001b[0;32m     52\u001b[0m \u001b[43m        \u001b[49m\u001b[43mname\u001b[49m\u001b[43m,\u001b[49m\n\u001b[0;32m     53\u001b[0m \u001b[43m        \u001b[49m\u001b[43mvocab\u001b[49m\u001b[38;5;241;43m=\u001b[39;49m\u001b[43mvocab\u001b[49m\u001b[43m,\u001b[49m\n\u001b[0;32m     54\u001b[0m \u001b[43m        \u001b[49m\u001b[43mdisable\u001b[49m\u001b[38;5;241;43m=\u001b[39;49m\u001b[43mdisable\u001b[49m\u001b[43m,\u001b[49m\n\u001b[0;32m     55\u001b[0m \u001b[43m        \u001b[49m\u001b[43menable\u001b[49m\u001b[38;5;241;43m=\u001b[39;49m\u001b[43menable\u001b[49m\u001b[43m,\u001b[49m\n\u001b[0;32m     56\u001b[0m \u001b[43m        \u001b[49m\u001b[43mexclude\u001b[49m\u001b[38;5;241;43m=\u001b[39;49m\u001b[43mexclude\u001b[49m\u001b[43m,\u001b[49m\n\u001b[0;32m     57\u001b[0m \u001b[43m        \u001b[49m\u001b[43mconfig\u001b[49m\u001b[38;5;241;43m=\u001b[39;49m\u001b[43mconfig\u001b[49m\u001b[43m,\u001b[49m\n\u001b[0;32m     58\u001b[0m \u001b[43m    \u001b[49m\u001b[43m)\u001b[49m\n",
      "File \u001b[1;32m~\\AppData\\Local\\Programs\\Python\\Python311\\Lib\\site-packages\\spacy\\util.py:472\u001b[0m, in \u001b[0;36mload_model\u001b[1;34m(name, vocab, disable, enable, exclude, config)\u001b[0m\n\u001b[0;32m    470\u001b[0m \u001b[38;5;28;01mif\u001b[39;00m name \u001b[38;5;129;01min\u001b[39;00m OLD_MODEL_SHORTCUTS:\n\u001b[0;32m    471\u001b[0m     \u001b[38;5;28;01mraise\u001b[39;00m \u001b[38;5;167;01mIOError\u001b[39;00m(Errors\u001b[38;5;241m.\u001b[39mE941\u001b[38;5;241m.\u001b[39mformat(name\u001b[38;5;241m=\u001b[39mname, full\u001b[38;5;241m=\u001b[39mOLD_MODEL_SHORTCUTS[name]))  \u001b[38;5;66;03m# type: ignore[index]\u001b[39;00m\n\u001b[1;32m--> 472\u001b[0m \u001b[38;5;28;01mraise\u001b[39;00m \u001b[38;5;167;01mIOError\u001b[39;00m(Errors\u001b[38;5;241m.\u001b[39mE050\u001b[38;5;241m.\u001b[39mformat(name\u001b[38;5;241m=\u001b[39mname))\n",
      "\u001b[1;31mOSError\u001b[0m: [E050] Can't find model 'en_core_web_sm'. It doesn't seem to be a Python package or a valid path to a data directory."
     ]
    }
   ],
   "source": [
    "import spacy\n",
    "\n",
    "# Load the spaCy model\n",
    "nlp = spacy.load(\"en_core_web_sm\")\n",
    "\n",
    "# Example sentence\n",
    "sentence = \"Candidates must have 5 years of programming experience.\"\n",
    "\n",
    "# Process the sentence\n",
    "doc = nlp(sentence)\n",
    "\n",
    "# Iterate over the entities\n",
    "for ent in doc.ents:\n",
    "    if ent.label_ == \"DATE\":\n",
    "        print(f\"Found a date entity: {ent.text}\")\n"
   ]
  },
  {
   "cell_type": "code",
   "execution_count": null,
   "id": "2a33f20b-767e-4d0b-8135-8f8185044052",
   "metadata": {},
   "outputs": [],
   "source": []
  }
 ],
 "metadata": {
  "kernelspec": {
   "display_name": "Python 3 (ipykernel)",
   "language": "python",
   "name": "python3"
  },
  "language_info": {
   "codemirror_mode": {
    "name": "ipython",
    "version": 3
   },
   "file_extension": ".py",
   "mimetype": "text/x-python",
   "name": "python",
   "nbconvert_exporter": "python",
   "pygments_lexer": "ipython3",
   "version": "3.11.6"
  }
 },
 "nbformat": 4,
 "nbformat_minor": 5
}
